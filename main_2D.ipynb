{
 "cells": [
  {
   "cell_type": "code",
   "execution_count": 209,
   "id": "dd4d3d34",
   "metadata": {
    "pycharm": {
     "name": "#%%\n"
    }
   },
   "outputs": [],
   "source": [
    "import collections\n",
    "import getopt\n",
    "import math\n",
    "import os\n",
    "import shelve\n",
    "import sys\n",
    "import logging\n",
    "\n",
    "from scipy import signal\n",
    "\n",
    "import torch\n",
    "import torch.nn as nn\n",
    "from torch import optim\n",
    "from torch.utils.data import TensorDataset, DataLoader\n",
    "\n",
    "import librosa\n",
    "import librosa.display\n",
    "\n",
    "import numpy as np\n",
    "import matplotlib.pyplot as plt\n",
    "import re\n",
    "\n",
    "import Spectrogram as sp\n",
    "from utils import get_time_resolution, get_frequency_bins, plot_time_domain, extract_instrument_info, check_path\n",
    "\n",
    "\n",
    "from Models.Autoencoder2DTripleStride import Autoencoder2DTripleStride\n",
    "from Models.Autoencoder2DDoubleStride import Autoencoder2DDoubleStride\n",
    "from Models.Autoencoder2DSingleStride import Autoencoder2DSingleStride\n",
    "from Models.Autoencoder2DMelDoubleStride import Autoencoder2DMelDoubleStride\n",
    "from Models.Autoencoder2DMelTripleStride import Autoencoder2DMelTripleStride\n",
    "from Models.Autoencoder2DMelSingleStride import Autoencoder2DMelSingleStride\n",
    "\n",
    "from NSynthDataset import NSynthDataset\n",
    "\n"
   ]
  },
  {
   "cell_type": "code",
   "execution_count": 210,
   "outputs": [],
   "source": [
    "\n",
    "#input_image = torch.ones((1, 1, 7, 7))\n",
    "\n",
    "#kernel_size = 3\n",
    "#kernel = torch.ones((1, 1, kernel_size, kernel_size))\n",
    "\n",
    "#torch.conv2d(input_image, weight=kernel, stride=2, padding=0)\n",
    "\n",
    "#r1 = torch.conv2d(c, weight=kernel, stride=1, padding=2)\n",
    "#r2 = torch.conv_transpose2d(c, weight=kernel, stride=2, padding=0)\n",
    "\n",
    "#print(r1)\n",
    "#print(r2)\n"
   ],
   "metadata": {
    "collapsed": false,
    "pycharm": {
     "name": "#%%\n"
    }
   }
  },
  {
   "cell_type": "code",
   "execution_count": 211,
   "outputs": [],
   "source": [
    "#Model = Autoencoder2DMelTripleStride\n",
    "#model_path = \"Training_full_2D_29_03_23_triple_strided_mel\"\n",
    "#Model = Autoencoder2DMelDoubleStride\n",
    "#model_path = \"Training_full_22_3_mel\"\n",
    "Model = Autoencoder2DMelSingleStride\n",
    "model_path = \"Mel_single_stride\"\n",
    "\n",
    "#Model = Autoencoder2DSingleStride\n",
    "#model_path = \"Training_08_03_strided\"\n",
    "\n",
    "#Model = Autoencoder2DTripleStride\n",
    "#model_path = \"Training_full_2D_17_2_23_strided\"\n",
    "\n",
    "#Model = Autoencoder2DDoubleStride\n",
    "#model_path = \"Training_23_2_23\""
   ],
   "metadata": {
    "collapsed": false,
    "pycharm": {
     "name": "#%%\n"
    }
   }
  },
  {
   "cell_type": "code",
   "execution_count": 212,
   "id": "a678db7e",
   "metadata": {
    "pycharm": {
     "name": "#%%\n"
    }
   },
   "outputs": [],
   "source": [
    "torch.set_num_threads(1)\n",
    "so = open(\"data_train.log\", \"w\", 10)\n",
    "sys.stdout.echo = so\n",
    "sys.stderr.echo = so\n",
    "\n",
    "get_ipython().log.handlers[0].stream = so\n",
    "get_ipython().log.setLevel(logging.INFO)"
   ]
  },
  {
   "cell_type": "markdown",
   "source": [],
   "metadata": {
    "collapsed": false,
    "pycharm": {
     "name": "#%% md\n"
    }
   }
  },
  {
   "cell_type": "code",
   "execution_count": 213,
   "id": "ba03d502",
   "metadata": {
    "pycharm": {
     "name": "#%%\n"
    }
   },
   "outputs": [],
   "source": [
    "def compute_spectrogram(signal, title, n_fft, fs, frame=None, show_spec=True, win_length=None, hop_length=None,\n",
    "                        savefig=False, dataset='nsynth-test', use_mel=False):\n",
    "    if not hop_length:\n",
    "        hop_length = n_fft // 2\n",
    "    if not win_length:\n",
    "        win_length = n_fft\n",
    "    if frame is not None:\n",
    "        title = \"%s_%d\" % (title, frame)\n",
    "\n",
    "    res = librosa.stft(signal, n_fft=n_fft, win_length=win_length, hop_length=hop_length, center=True, )\n",
    "    times = librosa.times_like(res, sr=fs, hop_length=hop_length, n_fft=n_fft)\n",
    "    freq = librosa.fft_frequencies(sr=fs, n_fft=n_fft)\n",
    "\n",
    "    mag, phase = librosa.magphase(res)\n",
    "\n",
    "    if use_mel:\n",
    "        mel = librosa.feature.melspectrogram(S=mag**2, sr=fs)\n",
    "        ref = np.max(mel)\n",
    "        mel_db = librosa.power_to_db(mel, amin=1e-13, ref=ref, top_db=120)\n",
    "\n",
    "        fig, ax = plt.subplots()\n",
    "        img = librosa.display.specshow(mel_db, x_axis='time', y_axis='mel', sr=fs, ax=ax)\n",
    "        fig.colorbar(img, ax=ax, format='%+2.0f dB')\n",
    "        plt_title=\"Mel-frequency %s\" % title\n",
    "        ax.set(title=plt_title)\n",
    "\n",
    "    else:\n",
    "        ref = np.max(mag)\n",
    "        mag_db = librosa.power_to_db(mag, amin=1e-13, ref=ref, top_db=120)\n",
    "        plt.pcolormesh(times, freq, mag_db, cmap='inferno')\n",
    "        plt.ylabel('Frequency [Hz]')\n",
    "        plt.xlabel('Time in sec')\n",
    "        plt.colorbar(format='%-2.0f dB')\n",
    "        plt.title(title)\n",
    "\n",
    "    # to be tried out in further process during thesis\n",
    "    #mel = librosa.feature.melspectrogram(S=mag)\n",
    "    # mel = librosa.amplitude_to_db(mel, ref=np.min)\n",
    "    # librosa.display.specshow(mel, x_axis='time', y_axis='mel')\n",
    "    # plt.colorbar(format='%-2.0f dB')\n",
    "    # plt.show()\n",
    "\n",
    "    # try to apply log to magnitude\n",
    "    # func = lambda x: math.log10(x) if x != 0 else -12\n",
    "    # func = np.vectorize(func)\n",
    "    # mag = func(mag)\n",
    "\n",
    "    # power to db conversion that worked out best\n",
    "\n",
    "\n",
    "    # nsynth implementation with normalized db --> output doesn't sound that good as without normalization\n",
    "    # mag_squared = mag**2\n",
    "    # ref = np.max(mag_squared)\n",
    "    # mag_db = (librosa.power_to_db(mag_squared, amin=1e-13, ref=ref, top_db=120)/120.) + 1\n",
    "\n",
    "    instrument = re.search(\"[a-z]+_[a-z]+\", title).group(0)\n",
    "\n",
    "\n",
    "\n",
    "    if savefig:\n",
    "        if use_mel:\n",
    "            path = './Samples/%s/mel_specs/%s' % (dataset, instrument)\n",
    "        else:\n",
    "            path = './Samples/%s/specs/%s' % (dataset, instrument)\n",
    "        check_path(path)\n",
    "        plt.savefig(\"%s/%s.png\" % (path, title), dpi=200)\n",
    "        plt.close()\n",
    "    if show_spec:\n",
    "        plt.show()\n",
    "\n",
    "    if use_mel:\n",
    "        return sp.Spectrogram(title, instrument, freq, times, mel_db, phase, ref)\n",
    "    else:\n",
    "        return sp.Spectrogram(title, instrument, freq, times, mag_db, phase, ref)\n",
    "\n",
    "\n"
   ]
  },
  {
   "cell_type": "code",
   "execution_count": 214,
   "id": "0b8d28c8",
   "metadata": {
    "pycharm": {
     "name": "#%%\n"
    }
   },
   "outputs": [],
   "source": [
    "def pre_process(instrument_family=None, instrument_source=None, dataset_type='nsynth-train', framed=False, use_mel=False):\n",
    "\n",
    "\n",
    "    nsynth = NSynthDataset('examples.json', 'Samples/%s' % dataset_type)\n",
    "    \n",
    "\n",
    "    #nsynth.shrink_to_single_instrument(4, 2)  # Extracting Keyboard_Synthetic\n",
    "    if instrument_family is not None and instrument_source is not None:\n",
    "        nsynth.shrink_to_single_instrument(instrument_family, instrument_source)  # Extracting Guitar Acoustic\n",
    "\n",
    "\n",
    "\n",
    "    _, _, sr = nsynth[0]\n",
    "\n",
    "    frame_size_millis = 20\n",
    "    hann_window_length_sec = frame_size_millis / 1000\n",
    "    hann_window_length = int(sr * hann_window_length_sec)\n",
    "    hann_window = np.hanning(hann_window_length)\n",
    "    window_hop = int(hann_window_length / 2)\n",
    "\n",
    "    length = len(nsynth)\n",
    "    for i in range(0, length):\n",
    "        s, t, sr = nsynth[i]\n",
    "        s, idx = librosa.effects.trim(s)  # cut silence at the end\n",
    "        pad = hann_window_length - idx[1] % window_hop  # calculate the padding to multiple of hop distance including one extra frame for overlap\n",
    "        s = librosa.util.fix_length(s, size=idx[1] + pad)  # fixes length to multiple of hop distance\n",
    "        s = np.pad(s, (window_hop, 0), 'constant')\n",
    "        #plot_time_domain(s, t, 'SignalPlots', persist=False) # plots whole time domain signal\n",
    "\n",
    "        if framed:\n",
    "            # version with calculating frames in advance\n",
    "            frames = librosa.util.frame(s, frame_length=hann_window_length, hop_length=window_hop, axis=0)\n",
    "            for j, frame in enumerate(frames):\n",
    "                if frame.max() == 0 and frame.min() == 0: break  # discard empty frame\n",
    "                frame = frame * hann_window\n",
    "                plot_time_domain(frame, t, 'SignalPlots/', persist=True, frame=j)\n",
    "                spec = compute_spectrogram(frame, t, 512, sr, savefig=True, frame=j, show_spec=False)\n",
    "                #spec.persist()\n",
    "        else:\n",
    "            #plot_time_domain(s, t, 'SignalPlots', persist=True)\n",
    "            spec = compute_spectrogram(s, t, 1024, sr, savefig=True, show_spec=False, dataset=dataset_type, hop_length=1024//2, use_mel=use_mel)\n",
    "            spec.persist(dataset_type)\n",
    "            print(\"Persisted %d of %d\" % (i+1, length), end='\\r')"
   ]
  },
  {
   "cell_type": "markdown",
   "id": "f2852f15",
   "metadata": {
    "pycharm": {
     "name": "#%% md\n"
    }
   },
   "source": [
    "### Call for pre-processing"
   ]
  },
  {
   "cell_type": "code",
   "execution_count": 215,
   "outputs": [],
   "source": [
    "#pre_process(3,0, 'nsynth-test') #Pre process keybboard synthetic\n",
    "\n",
    "#pre_process(3,0, 'nsynth-test', use_mel=True)\n",
    "#pre_process(6,1, 'nsynth-test', use_mel=True)\n",
    "#pre_process(1,0, 'nsynth-test', use_mel=True)"
   ],
   "metadata": {
    "collapsed": false,
    "pycharm": {
     "name": "#%%\n"
    }
   }
  },
  {
   "cell_type": "code",
   "execution_count": 216,
   "id": "02cab867",
   "metadata": {
    "pycharm": {
     "name": "#%%\n"
    }
   },
   "outputs": [],
   "source": [
    "#pre_process(3,1, 'nsynth-test') # guitar electronic\n",
    "#pre_process(3,0, 'nsynth-test') # guitar acoustic\n",
    "#print(\"Hello From Notebook\")\n",
    "#pre_process(6,1, 'nsynth-test') # organ electronic\n",
    "\n",
    "#pre_process(0,1, 'nsynth-test')\n",
    "#pre_process(0,1, 'nsynth-valid') # bass electronic\n",
    "\n",
    "#pre_process(0,1, 'nsynth-train')\n",
    "#print(\"\")\n",
    "#pre_process(6,1, 'nsynth-test')\n",
    "#print(\"\")\n",
    "#pre_process(2,0, 'nsynth-test') # flute\n",
    "#print(\"\")\n",
    "\n",
    "#pre_process(dataset_type='nsynth-test', use_mel=True) # pre process all\n",
    "#pre_process(dataset_type='nsynth-valid', instrument_family=3, instrument_source=0)"
   ]
  },
  {
   "cell_type": "markdown",
   "id": "58bc112a",
   "metadata": {
    "pycharm": {
     "name": "#%% md\n"
    }
   },
   "source": [
    "### Training Step \n",
    "\n",
    "In this part the training will be defined and started"
   ]
  },
  {
   "cell_type": "code",
   "execution_count": 217,
   "id": "fb1e992b",
   "metadata": {
    "pycharm": {
     "name": "#%%\n"
    }
   },
   "outputs": [],
   "source": [
    "import time\n",
    "\n",
    "def fit_model(criterion, dataLoader, v_dataLoader, model, optimizer, epochs, scheduler, persist=False):\n",
    "    device = torch.device(\"cuda\" if torch.cuda.is_available() else \"cpu\")\n",
    "    print(\"\")\n",
    "    print(\"Device: %s\" % device)\n",
    "    print(\"\")\n",
    "    \n",
    "    min_valid_loss = np.inf\n",
    "    \n",
    "    \n",
    "    for epoch in range(epochs):\n",
    "        start = time.time()\n",
    "        loss = 0\n",
    "        feature = 0\n",
    "        for batch_features, targ in dataLoader:\n",
    "\n",
    "            batch_features = batch_features.to(device)\n",
    "\n",
    "            optimizer.zero_grad()\n",
    "\n",
    "            outputs = model(batch_features)\n",
    "\n",
    "            train_loss = criterion(outputs, batch_features)\n",
    "\n",
    "            train_loss.backward()\n",
    "\n",
    "            optimizer.step()\n",
    "\n",
    "            loss += train_loss.item()\n",
    "\n",
    "            #print(\"Feature: %d, loss %.6f\" % (feature, train_loss.item()))\n",
    "\n",
    "            feature += 1\n",
    "\n",
    "            print(\"Feature %d / %d\" % (feature, len(dataLoader)), end='\\r')\n",
    "        loss = loss / len(dataLoader)\n",
    "        \n",
    "        \n",
    "        \n",
    "        print(\"\")\n",
    "        \n",
    "        end = time.time()\n",
    "        diff = (end - start)\n",
    "        print('Needs %.3f Seconds' % diff)\n",
    "\n",
    "        \n",
    "        print(\"epoch : {}/{}, loss = {:.6f}\".format(epoch + 1, epochs, loss))\n",
    "        \n",
    "        if epoch > 0:\n",
    "            print(f\"Current LR: {scheduler.state_dict()['_last_lr']}\")\n",
    "        #print(scheduler.state_dict())\n",
    "        \n",
    "        val_loss = 0.0\n",
    "        if v_dataLoader is not None:\n",
    "            print(\"Validating ...\")\n",
    "\n",
    "            \n",
    "            for v_batch_features, v_targ in v_dataLoader:\n",
    "\n",
    "                v_batch_features = v_batch_features.to(device)\n",
    "\n",
    "                outputs = model(v_batch_features)\n",
    "                feature_loss = criterion(outputs, v_batch_features)\n",
    "\n",
    "                val_loss += feature_loss.item()\n",
    "\n",
    "            val_loss = val_loss/len(v_dataLoader)\n",
    "            print(\"Validation Score: %.6f\" % val_loss)\n",
    "            if min_valid_loss > val_loss:\n",
    "                print(f'Validation Loss Decreased({min_valid_loss:.6f}--->{val_loss:.6f})')\n",
    "                min_valid_loss = val_loss\n",
    "                \n",
    "            scheduler.step(val_loss)\n",
    "        else:\n",
    "            scheduler.step(loss)\n",
    "        print(f\"New LR: {scheduler.state_dict()['_last_lr']}\")\n",
    "        \n",
    "        \n",
    "        if persist:\n",
    "            torch.save(model, \"./Models/Trained/Training_9_2_23_Valid/Baseline_Epoch_%d_Loss_%.3f_Val_%.3f\" % (epoch, loss, val_loss))\n",
    "        \n",
    "        \n",
    "        print(\"------------------------------------------------\")\n",
    "\n",
    "    if persist:\n",
    "        torch.save(model, \"Models/Trained/Training_9_2_23_Valid/Trained_Best\")"
   ]
  },
  {
   "cell_type": "code",
   "execution_count": 217,
   "outputs": [],
   "source": [],
   "metadata": {
    "collapsed": false,
    "pycharm": {
     "name": "#%%\n"
    }
   }
  },
  {
   "cell_type": "markdown",
   "id": "217abdc7",
   "metadata": {
    "pycharm": {
     "name": "#%% md\n"
    }
   },
   "source": [
    "training the preliminary model"
   ]
  },
  {
   "cell_type": "code",
   "execution_count": 218,
   "id": "e9f8b3f9",
   "metadata": {
    "pycharm": {
     "name": "#%%\n"
    }
   },
   "outputs": [],
   "source": [
    "def train(epochs):\n",
    "\n",
    "    device = torch.device('cuda' if torch.cuda.is_available() else 'cpu')\n",
    "\n",
    "    model = Model().to(device)\n",
    "\n",
    "\n",
    "    optimizer = optim.Adam(model.parameters(), lr=1e-7, weight_decay=0.9999, eps=1e-8)\n",
    "    #optimizer = optim.SGD(model.parameters(), lr=1e-5, momentum=0.5)\n",
    "    scheduler = torch.optim.lr_scheduler.ReduceLROnPlateau(optimizer, factor=0.1, patience=4)\n",
    "\n",
    "    pytorch_total_params = sum(p.numel() for p in model.parameters() if p.requires_grad)\n",
    "    print(\"Params: %s \" % pytorch_total_params)\n",
    "\n",
    "    #criterion = nn.BCELoss()\n",
    "    criterion = nn.MSELoss()\n",
    "\n",
    "    specs = np.load(\"train_specs_full.npy\", mmap_mode='r+')\n",
    "\n",
    "    #specs = sp.concatenate_spectrograms_2D(\"nsynth-valid_1024\", cut_silence=True, overlap=True)\n",
    "\n",
    "\n",
    "    print(\"\")\n",
    "    print(specs.shape)\n",
    "\n",
    "    #v_specs = np.load(\"valid_specs.npy\")\n",
    "    v_specs = sp.concatenate_spectrograms_2D(\"nsynth-valid_mel\", cut_silence=True, overlap=True)\n",
    "    np.random.shuffle(v_specs)\n",
    "\n",
    "    #print(\"\")\n",
    "\n",
    "    tensor = torch.from_numpy(specs)\n",
    "    dataset = TensorDataset(tensor, tensor)\n",
    "    dataLoader = DataLoader(dataset, 32, num_workers=12, pin_memory=True, shuffle=True)\n",
    "\n",
    "    v_tensor = torch.Tensor(v_specs)\n",
    "    v_dataset = TensorDataset(v_tensor, v_tensor)\n",
    "    v_dataLoader = DataLoader(v_dataset, 32, num_workers=12, pin_memory=True, shuffle=True)\n",
    "\n",
    "    fit_model(criterion, dataLoader, v_dataLoader, model, optimizer, epochs, scheduler, persist=True)\n"
   ]
  },
  {
   "cell_type": "code",
   "execution_count": 219,
   "outputs": [],
   "source": [
    "#specs = sp.concatenate_spectrograms_2D(\"nsynth-train_1024\", cut_silence=True, overlap=True)\n",
    "\n",
    "#np.save(\"train_specs_p2.npy\", specs)\n",
    "\n",
    "#v_specs = sp.concatenate_spectrograms_2D(\"nsynth-valid_1024\", cut_silence=True, overlap=True, limit=1000)\n",
    "\n",
    "#np.save(\"valid_specs\")"
   ],
   "metadata": {
    "collapsed": false,
    "pycharm": {
     "name": "#%%\n"
    }
   }
  },
  {
   "cell_type": "code",
   "execution_count": 220,
   "id": "327a9280",
   "metadata": {
    "pycharm": {
     "name": "#%%\n"
    }
   },
   "outputs": [],
   "source": [
    "#specs_pt1 = np.load(\"train_specs_p1.npy\", mmap_mode='r')\n",
    "#print(\"loaded first\")\n",
    "#specs_pt2 = np.load(\"train_specs_p2.npy\",mmap_mode='r')\n",
    "#\n",
    "#print(\"now concatenating\")\n",
    "#specs = np.concatenate((specs_pt1, specs_pt2))\n",
    "\n",
    "#print(\"concatenated\")\n",
    "\n",
    "\n"
   ]
  },
  {
   "cell_type": "code",
   "execution_count": 221,
   "outputs": [],
   "source": [
    "#train(1000)"
   ],
   "metadata": {
    "collapsed": false,
    "pycharm": {
     "name": "#%%\n"
    }
   }
  },
  {
   "cell_type": "code",
   "execution_count": 222,
   "outputs": [],
   "source": [
    "def convert_to_dict(training_folder):\n",
    "    device = torch.device(\"cuda\" if torch.cuda.is_available() else \"cpu\")\n",
    "    model_path = \"./Models/Trained/%s/Trained_Best\" % training_folder\n",
    "    model = torch.load(model_path, map_location=device)\n",
    "\n",
    "    torch.save(model.state_dict(), \"%s.pt\" % model_path)\n",
    "\n"
   ],
   "metadata": {
    "collapsed": false,
    "pycharm": {
     "name": "#%%\n"
    }
   }
  },
  {
   "cell_type": "code",
   "execution_count": 223,
   "outputs": [],
   "source": [
    "#convert_to_dict(\"Training_14_02_23_2DOverlap\")"
   ],
   "metadata": {
    "collapsed": false,
    "pycharm": {
     "name": "#%%\n"
    }
   }
  },
  {
   "cell_type": "code",
   "execution_count": 224,
   "id": "487b34c2",
   "metadata": {
    "pycharm": {
     "name": "#%%\n"
    }
   },
   "outputs": [],
   "source": [
    "def test_model(training_folder, dataset, instrument=None, pitch=None, shuffle=True):\n",
    "\n",
    "\n",
    "    device = torch.device(\"cuda\" if torch.cuda.is_available() else \"cpu\")\n",
    "    model_path = \"./Models/Trained/%s/Trained_Best.pt\" % training_folder\n",
    "    model = Model()\n",
    "    model.load_state_dict(torch.load(model_path, map_location=device), strict=False)\n",
    "    model.eval()\n",
    "    for param in model.parameters():\n",
    "        param.grad = None\n",
    "    torch.set_flush_denormal(True)\n",
    "\n",
    "\n",
    "    if instrument is not None:\n",
    "        specs, targets = sp.concatenate_spectrograms_2D(dataset, [instrument], cut_silence=True, desired_pitch=pitch, overlap=True)\n",
    "    else:\n",
    "        specs, targets = sp.concatenate_spectrograms_2D(dataset, cut_silence=True, desired_pitch=pitch, overlap=True)\n",
    "    if len(specs) == 0: return\n",
    "\n",
    "    if shuffle: np.random.shuffle(specs)\n",
    "    tensor = torch.Tensor(specs)\n",
    "    testset = TensorDataset(tensor)\n",
    "    loader = DataLoader(testset)\n",
    "    \n",
    "\n",
    "    criterion = nn.MSELoss()\n",
    "    print(\"\")\n",
    "    print(device)\n",
    "    \n",
    "    with torch.no_grad():\n",
    "\n",
    "        feature = 1\n",
    "        test_loss = 0.0\n",
    "        for batch_features in loader:\n",
    "            \n",
    "            features = batch_features[0].to(device)\n",
    "            output = model.forward(features)\n",
    "            \n",
    "            loss = criterion(output, features)\n",
    "            \n",
    "            test_loss += loss\n",
    "            print(\"Feature %d / %d\" % (feature, len(loader)), end='\\r')\n",
    "            feature += 1\n",
    "            \n",
    "        test_loss = test_loss/len(loader)\n",
    "        \n",
    "        print(\"Test Score: %.6f pitch: %s\" % (test_loss, pitch))\n",
    "            \n",
    "    \n"
   ]
  },
  {
   "cell_type": "markdown",
   "source": [
    "The following cell is for evaluating scores regarding specific pitches"
   ],
   "metadata": {
    "collapsed": false,
    "pycharm": {
     "name": "#%% md\n"
    }
   }
  },
  {
   "cell_type": "code",
   "execution_count": 225,
   "outputs": [],
   "source": [
    "# test_model(model_path, 'nsynth-test_mel', pitch='030')\n",
    "# test_model(model_path, 'nsynth-test_mel', pitch='035')\n",
    "# test_model(model_path, 'nsynth-test_mel', pitch='040')\n",
    "# test_model(model_path, 'nsynth-test_mel', pitch='045')\n",
    "# test_model(model_path, 'nsynth-test_mel', pitch='050')\n",
    "# test_model(model_path, 'nsynth-test_mel', pitch='055')\n",
    "# test_model(model_path, 'nsynth-test_mel', pitch='060')\n",
    "# test_model(model_path, 'nsynth-test_mel', pitch='065')\n",
    "# test_model(model_path, 'nsynth-test_mel', pitch='070')\n",
    "# test_model(model_path, 'nsynth-test_mel', pitch='075')\n",
    "# test_model(model_path, 'nsynth-test_mel', pitch='080')\n",
    "# test_model(model_path, 'nsynth-test_mel', pitch='085')\n",
    "# test_model(model_path, 'nsynth-test_mel', pitch='090')\n",
    "# test_model(model_path, 'nsynth-test_mel', pitch='095')\n",
    "# test_model(model_path, 'nsynth-test_mel', pitch='100')"
   ],
   "metadata": {
    "collapsed": false,
    "pycharm": {
     "name": "#%%\n"
    }
   }
  },
  {
   "cell_type": "code",
   "execution_count": 226,
   "id": "0b1eb78d",
   "metadata": {
    "pycharm": {
     "name": "#%%\n"
    }
   },
   "outputs": [],
   "source": [
    "# test_model(model_path, 'nsynth-test_1024')"
   ]
  },
  {
   "cell_type": "code",
   "execution_count": 227,
   "id": "af68679d",
   "metadata": {
    "pycharm": {
     "name": "#%%\n"
    }
   },
   "outputs": [],
   "source": [
    "def encode(training_folder, pitch=None, make_plot=True, instruments=None, one_dimension=True, plot_as_image=True, samples=None, use_mel=False):\n",
    "\n",
    "    device = torch.device(\"cuda\" if torch.cuda.is_available() else \"cpu\")\n",
    "\n",
    "    model_path = \"./Models/Trained/%s/Trained_Best.pt\" % training_folder\n",
    "    #model = torch.load(model_path, map_location=device)\n",
    "    model = Model()\n",
    "    model.load_state_dict(torch.load(model_path, map_location=device), strict=False)\n",
    "    model.eval()\n",
    "\n",
    "    for param in model.parameters():\n",
    "        param.grad = None\n",
    "    torch.set_flush_denormal(True)\n",
    "\n",
    "    if use_mel:\n",
    "        dataset = 'nsynth-test_mel'\n",
    "    else:\n",
    "        dataset = 'nsynth-test_1024'\n",
    "\n",
    "    specs, targets, phases, power_refs  = sp.concatenate_spectrograms_2D(dataset, instruments, all_data=True, cut_silence=True, desired_pitch=pitch, overlap=True, samples=samples)\n",
    "\n",
    "    tensor = torch.Tensor(specs)\n",
    "    testset = TensorDataset(tensor)\n",
    "    loader = DataLoader(testset, num_workers=6)\n",
    "\n",
    "    print(\"\")\n",
    "    embedding_dict = {}\n",
    "    with torch.no_grad():\n",
    "\n",
    "        feature_idx = 0\n",
    "        instrument_idx = 0\n",
    "        for feature in loader:\n",
    "\n",
    "            feature = feature[0].to(device)\n",
    "\n",
    "            encoding = model.encode(feature)\n",
    "\n",
    "            if embedding_dict.get(targets[feature_idx]) is None:\n",
    "                embedding_dict[targets[feature_idx]] = {}\n",
    "                embedding_dict[targets[feature_idx]]['emb'] = []\n",
    "                embedding_dict[targets[feature_idx]]['power_ref'] = power_refs[instrument_idx]\n",
    "                instrument_idx += 1\n",
    "\n",
    "            embedding_dict[targets[feature_idx]]['emb'].append(encoding[0,0].data.cpu().numpy().squeeze())\n",
    "\n",
    "            print(\"Feature %d / %d\" % (feature_idx, len(loader)), end='\\r')\n",
    "            feature_idx += 1\n",
    "\n",
    "    print(\"\")\n",
    "\n",
    "\n",
    "\n",
    "    if make_plot:\n",
    "        plot_embedding(embedding_dict, one_dimension, plot_as_image, use_mel)\n",
    "\n",
    "    return embedding_dict\n",
    "\n",
    "def plot_embedding(embedding_dict, one_dimension, plot_as_image, use_mel):\n",
    "\n",
    "    if use_mel:\n",
    "        basefolder = \"Output_mel/embeddings/%s\" % model_path\n",
    "    else:\n",
    "        basefolder = \"Output/embeddings/%s\" % model_path\n",
    "\n",
    "    check_path(basefolder)\n",
    "\n",
    "    for key in embedding_dict:\n",
    "\n",
    "            if one_dimension:\n",
    "                if plot_as_image:\n",
    "                    emb = np.array(embedding_dict[key]['emb'])\n",
    "                    embedding = emb.transpose()\n",
    "                    y_scale = np.array([i for i in range(0, embedding.shape[0])])\n",
    "                    x_scale = np.array([i for i in range(0, embedding.shape[1])])\n",
    "\n",
    "                    plt.pcolormesh(x_scale, y_scale, embedding, cmap='inferno', shading='auto')\n",
    "                    plt.colorbar()\n",
    "                    plt.title(\"Embedding of %s\" % key)\n",
    "\n",
    "                    plt.xlabel(\"Encoder output vectors\")\n",
    "                    plt.savefig(\"%s/%s\" % (basefolder, key), dpi=200)\n",
    "                    plt.close()\n",
    "\n",
    "                else:\n",
    "                    pt = 1\n",
    "                    for v in np.array(embedding_dict[key]['emb']):\n",
    "\n",
    "                        plt.stem(v)\n",
    "                        plt.title(\"Embedding of %s pt %s\" % (key, pt))\n",
    "                        plt.savefig(\"%s/%s_%s\" % (basefolder, key, pt), dpi=200)\n",
    "                        plt.close()\n",
    "                        pt += 1\n",
    "\n",
    "            else:\n",
    "                pt = 1\n",
    "                for emb in np.array(embedding_dict[key]['emb']):\n",
    "                    embedding = emb.transpose()\n",
    "                    y_scale = np.array([i for i in range(0, embedding.shape[0])])\n",
    "                    x_scale = np.array([i for i in range(0, embedding.shape[1])])\n",
    "\n",
    "                    plt.pcolormesh(x_scale, y_scale, embedding, cmap='inferno', shading='auto')\n",
    "                    plt.colorbar()\n",
    "                    plt.title(\"Embedding of %s\" % key)\n",
    "\n",
    "                    plt.xlabel(\"Encoder output vectors\")\n",
    "                    plt.savefig(\"%s/%s_%s\" % (basefolder, key, pt), dpi=200)\n",
    "                    plt.close()\n",
    "\n",
    "                    pt += 1\n",
    "\n",
    "def decode_interpolated(training_folder, z, title, power_refs, key_a=None, key_b=None, apply_energy_correction=True, use_mel=False, i_rate=0.5):\n",
    "    print(\"Decode\")\n",
    "\n",
    "    device = torch.device(\"cuda\" if torch.cuda.is_available() else \"cpu\")\n",
    "\n",
    "    model_path = \"./Models/Trained/%s/Trained_Best.pt\" % training_folder\n",
    "    model = Model()\n",
    "    model.load_state_dict(torch.load(model_path, map_location=device), strict=False)\n",
    "    model.eval()\n",
    "\n",
    "    for param in model.parameters():\n",
    "        param.grad = None\n",
    "    torch.set_flush_denormal(True)\n",
    "\n",
    "    decodable = z.astype(np.float32)[:, np.newaxis, np.newaxis, :]\n",
    "\n",
    "    tensor = torch.tensor(decodable)\n",
    "    dataset = TensorDataset(tensor)\n",
    "    loader = DataLoader(dataset, num_workers=6)\n",
    "    output_spec = []\n",
    "    with torch.no_grad():\n",
    "\n",
    "\n",
    "        count = 1\n",
    "        for feature in loader:\n",
    "\n",
    "            feature = feature[0].to(device)\n",
    "\n",
    "            output = model.decode(feature)\n",
    "            if len(output_spec) == 0:\n",
    "                output_spec.extend(output[0,0].data.cpu().numpy())\n",
    "            else:\n",
    "                spec = output[0,0].data.cpu().numpy()\n",
    "                output_spec[-2:] = (output_spec[-2:] + spec[:-1])/2\n",
    "                output_spec.append(spec[-1])\n",
    "            print(\"Feature %d / %d\" % (count, len(loader)), end='\\r')\n",
    "            count += 1\n",
    "\n",
    "    print(\"\")\n",
    "    output = np.array(output_spec).transpose()\n",
    "\n",
    "    #plot_reconstructions(output, '%s_output_spec_%.1f' % (title, i_rate), interpolated=True, use_mel=use_mel)\n",
    "    reconstruct_audio(output, power_refs, '%s_output_%.1f' % (title, i_rate), apply_energy_correction, interpolated=True, key_a=key_a, key_b=key_b, use_mel=use_mel)\n",
    "    reconstruct_audio(output, power_refs, '%s_output_%.1f' % (title, i_rate), False, interpolated=True, key_a=key_a, key_b=key_b, use_mel=use_mel)\n",
    "\n",
    "\n",
    "\n"
   ]
  },
  {
   "cell_type": "code",
   "execution_count": 230,
   "outputs": [],
   "source": [
    "def extract_energy(n_fft, dataset, use_mel=False):\n",
    "\n",
    "    ds = NSynthDataset('examples.json', 'Samples/%s' % dataset)\n",
    "\n",
    "    hop_length = n_fft // 2\n",
    "    win_length = n_fft\n",
    "\n",
    "    energy_dict = {}\n",
    "\n",
    "    for i in range(0, len(ds)):\n",
    "        s, t, sr = ds[i]\n",
    "\n",
    "        res = librosa.stft(s, n_fft=n_fft, win_length=win_length, hop_length=hop_length, center=True, )\n",
    "        mag, _ = librosa.magphase(res)\n",
    "\n",
    "        if use_mel:\n",
    "            mag = librosa.feature.melspectrogram(S=mag**2, sr=sr)\n",
    "\n",
    "        if energy_dict.get(t) is None:\n",
    "            energy_dict[t] = []\n",
    "\n",
    "        for f_vec in mag.transpose():\n",
    "            energy_sum = f_vec.sum()\n",
    "            energy_dict[t].append(energy_sum)\n",
    "\n",
    "        print(\"Calculated energy for spec %d of %d\" % (i, len(ds)), end='\\r')\n",
    "\n",
    "\n",
    "    print(\"\")\n",
    "    return energy_dict\n"
   ],
   "metadata": {
    "collapsed": false,
    "pycharm": {
     "name": "#%%\n"
    }
   }
  },
  {
   "cell_type": "code",
   "execution_count": 231,
   "outputs": [],
   "source": [
    "energy_dict = extract_energy(1024, 'nsynth-test', use_mel=False) ### extracting energy values of all frequency vectors per sample for later energy correction"
   ],
   "metadata": {
    "collapsed": false,
    "pycharm": {
     "name": "#%%\n"
    }
   }
  },
  {
   "cell_type": "code",
   "execution_count": 232,
   "outputs": [],
   "source": [
    "import soundfile\n",
    "\n",
    "\n",
    "def reconstruct(training_folder, instruments=None, pitch=None, apply_energy_correction=True, use_mel=False):\n",
    "    device = torch.device(\"cuda\" if torch.cuda.is_available() else \"cpu\")\n",
    "\n",
    "    model_path = \"./Models/Trained/%s/Trained_Best.pt\" % training_folder\n",
    "    model = Model()\n",
    "    model.load_state_dict(torch.load(model_path, map_location=device), strict=False)\n",
    "    #model = torch.load(model_path, map_location=device)\n",
    "    model.eval()\n",
    "\n",
    "    for param in model.parameters():\n",
    "        param.grad = None\n",
    "    torch.set_flush_denormal(True)\n",
    "\n",
    "    specs, targets, phases, power_refs  = sp.concatenate_spectrograms_2D(\"nsynth-test_1024\", instruments=instruments, all_data=True, cut_silence=True, desired_pitch=pitch, overlap=True)\n",
    "\n",
    "    tensor = torch.Tensor(specs)\n",
    "    testset = TensorDataset(tensor)\n",
    "    loader = DataLoader(testset, num_workers=6, )\n",
    "\n",
    "    criterion = nn.MSELoss()\n",
    "    print(\"\")\n",
    "\n",
    "    spec_dict = {}\n",
    "\n",
    "    with torch.no_grad():\n",
    "\n",
    "        pitch_loss = 0.0\n",
    "        target_idx = 0\n",
    "        instrument_idx = 0\n",
    "        for batch_features in loader:\n",
    "\n",
    "            features = batch_features[0].to(device)\n",
    "            output = model.forward(features)\n",
    "            loss = criterion(output, features)\n",
    "\n",
    "            if spec_dict.get(targets[target_idx]) is None:\n",
    "                spec_dict[targets[target_idx]] = {}\n",
    "                spec_dict[targets[target_idx]]['spec'] = []\n",
    "                spec_dict[targets[target_idx]]['spec'].extend(output[0,0].data.cpu().numpy())\n",
    "                spec_dict[targets[target_idx]]['power_ref'] = power_refs[instrument_idx]\n",
    "                spec_dict[targets[target_idx]]['phase'] = phases[instrument_idx]\n",
    "                spec_dict[targets[target_idx]]['loss'] = [loss]\n",
    "\n",
    "                instrument_idx += 1\n",
    "            else:\n",
    "                spec = output[0,0].data.cpu().numpy()\n",
    "                spec_dict[targets[target_idx]]['spec'][-2:] = (spec_dict[targets[target_idx]]['spec'][-2:] + spec[:-1])/2\n",
    "                spec_dict[targets[target_idx]]['spec'].append(spec[-1])\n",
    "                #spec_dict[targets[target_idx]]['spec'].extend(spec) # if no overlap\n",
    "\n",
    "                spec_dict[targets[target_idx]]['loss'].append(loss)\n",
    "\n",
    "            pitch_loss += loss\n",
    "\n",
    "\n",
    "            print(\"Feature %d / %d\" % (target_idx, len(loader)), end='\\r')\n",
    "\n",
    "\n",
    "            target_idx += 1\n",
    "\n",
    "        pitch_loss /= len(loader)\n",
    "        print(\"\")\n",
    "        print(\"MSE-Loss: %.5f\" % pitch_loss)\n",
    "\n",
    "\n",
    "    for key in spec_dict:\n",
    "\n",
    "        feature_loss = np.array(spec_dict[key]['loss'])\n",
    "        spec_loss = feature_loss.mean()\n",
    "\n",
    "        print(\"Loss for sample %s is %.5f\" % (key, spec_loss ))\n",
    "\n",
    "        spec = np.array(spec_dict[key]['spec']).transpose()\n",
    "\n",
    "\n",
    "\n",
    "        phases = np.array(spec_dict[key]['phase'])\n",
    "        #phases = phases.transpose()\n",
    "        power_ref = np.array(spec_dict[key]['power_ref'])\n",
    "        reconstruct_audio(spec, power_ref, key, apply_energy_correction, use_mel=use_mel, phase=None)\n",
    "        reconstruct_audio(spec, power_ref, key, apply_energy_correction=False, use_mel=use_mel, phase=None)\n",
    "\n",
    "\n",
    "def plot_reconstructions(reconstruction, title, interpolated=False, use_mel=False):\n",
    "\n",
    "    from utils import get_frequency_bins, get_time_resolution\n",
    "\n",
    "    if use_mel:\n",
    "        basepath = \"Output_mel\"\n",
    "\n",
    "        fig, ax = plt.subplots()\n",
    "        img = librosa.display.specshow(reconstruction, x_axis='time', y_axis='mel', sr=16000, ax=ax)\n",
    "        fig.colorbar(img, ax=ax, format='%+2.0f dB')\n",
    "        plt_title=\"Mel-frequency %s\" % title\n",
    "        ax.set(title=plt_title)\n",
    "\n",
    "    else:\n",
    "        basepath = \"Output\"\n",
    "        times = get_time_resolution(512, reconstruction.shape[1], 16000)\n",
    "        freq = get_frequency_bins(16000, 512)\n",
    "\n",
    "        plt.pcolormesh(times, freq, reconstruction, cmap='inferno', shading='auto')\n",
    "        plt.ylabel('Frequency [Hz]')\n",
    "        plt.xlabel('Time in sec')\n",
    "        plt.colorbar(format='%-2.0f dB')\n",
    "        plt.title(title)\n",
    "\n",
    "\n",
    "\n",
    "    if interpolated:\n",
    "        p = './%s/specs/%s/interpolated' % (basepath, model_path)\n",
    "        check_path(p)\n",
    "        plt.title(\"Output spectrogram\")\n",
    "        plt.savefig('%s/%s.png' % (p, title), dpi=200)\n",
    "    else:\n",
    "        p = './%s/specs/%s' % (basepath, model_path)\n",
    "        check_path(p)\n",
    "        plt.savefig('%s/%s.png' % (p, title), dpi=200)\n",
    "    plt.close()\n",
    "\n",
    "def equalize_energy(energy_o, mag_t):\n",
    "\n",
    "    for idx, v in enumerate(mag_t):\n",
    "        energy_sum = v.sum()\n",
    "        factor = energy_o[idx]/energy_sum\n",
    "        v *= factor\n",
    "\n",
    "def reconstruct_audio(mag, power, title, apply_energy_correction, phase=None, interpolated=False, key_a=None, key_b=None, use_mel=False, is_original=False):\n",
    "\n",
    "    mag = librosa.db_to_power(mag, ref=power)\n",
    "    mag_t = mag.transpose()\n",
    "\n",
    "    if apply_energy_correction:\n",
    "\n",
    "        if interpolated:\n",
    "            energy_o_a = np.array(energy_dict[key_a][:len(mag_t)])\n",
    "            energy_o_b = np.array(energy_dict[key_b][:len(mag_t)])\n",
    "            mean_energy = (energy_o_a+energy_o_b)/2\n",
    "            equalize_energy(mean_energy, mag_t)\n",
    "        else:\n",
    "\n",
    "            energy_o = energy_dict[title]\n",
    "            equalize_energy(energy_o, mag_t)\n",
    "        title = \"%s_ec\" % title\n",
    "\n",
    "    plot_reconstructions(librosa.power_to_db(mag, amin=1e-13, ref=power, top_db=120), title, use_mel=use_mel, interpolated=interpolated)\n",
    "\n",
    "    if use_mel:\n",
    "        if phase is not None:\n",
    "            mag = librosa.feature.inverse.mel_to_stft(mag, n_fft=1024, sr=16000)\n",
    "            mag_phase = mag*phase[:,:-1]\n",
    "            sig = librosa.istft(mag_phase, n_fft=1024, hop_length=512, win_length=1024)\n",
    "            sig_path = 'Output_mel/SignalPlots/%s' % model_path\n",
    "            wav_path = 'Output_mel/wav/%s' % model_path\n",
    "            check_path(sig_path)\n",
    "            check_path(wav_path)\n",
    "            plot_time_domain(sig, title, basepath=sig_path, persist=True)\n",
    "            filename = '%s/%s.wav' % (wav_path, title)\n",
    "            soundfile.write(filename, sig, 16000)\n",
    "            return\n",
    "\n",
    "        sig_griff = librosa.feature.inverse.mel_to_audio(mag, n_fft=1024, hop_length=512, win_length=1024, sr=16000)\n",
    "        plot_path = 'Output_mel/SignalPlots'\n",
    "        sig_path = 'Output_mel/wav'\n",
    "\n",
    "    else:\n",
    "        if phase is not None:\n",
    "            mag_phase = mag * phase[:,:-1]\n",
    "            sig = librosa.istft(mag_phase, n_fft=1024, hop_length=512, win_length=1024)\n",
    "            sig_path = 'Output/SignalPlots/%s' % model_path\n",
    "            wav_path = 'Output/wav/%s' % model_path\n",
    "            check_path(sig_path)\n",
    "            check_path(wav_path)\n",
    "            plot_time_domain(sig, title, basepath=sig_path, persist=True)\n",
    "            filename = '%s/%s.wav' % (wav_path, title)\n",
    "            soundfile.write(filename, sig, 16000)\n",
    "            return\n",
    "\n",
    "        sig_griff = librosa.griffinlim(mag, n_fft=1024, hop_length=512, win_length=1024)\n",
    "\n",
    "        plot_path = 'Output/SignalPlots'\n",
    "        sig_path = 'Output/wav'\n",
    "\n",
    "    plot_path = os.path.join(plot_path, model_path)\n",
    "    sig_path = os.path.join(sig_path, model_path)\n",
    "\n",
    "    if interpolated:\n",
    "        plot_path = os.path.join(plot_path, 'interpolated')\n",
    "        sig_path = os.path.join(sig_path, 'interpolated')\n",
    "\n",
    "\n",
    "\n",
    "    check_path(plot_path)\n",
    "    check_path(sig_path)\n",
    "\n",
    "    if is_original:\n",
    "        source = \"o\"\n",
    "    else:\n",
    "        source = \"gl\"\n",
    "\n",
    "    plot_time_domain(sig_griff, \"%s_%s.png\" % (title, source), basepath=plot_path, persist=True)\n",
    "    filename_gf = '%s_%s.wav' % (title, source)\n",
    "    soundfile.write(os.path.join(sig_path, filename_gf), sig_griff, 16000)\n"
   ],
   "metadata": {
    "collapsed": false,
    "pycharm": {
     "name": "#%%\n"
    }
   }
  },
  {
   "cell_type": "code",
   "execution_count": 233,
   "outputs": [],
   "source": [
    "# reconstruct(model_path, pitch='030', instruments=['guitar_acoustic', 'brass_acoustic', 'keyboard_synthetic'], apply_energy_correction='True', use_mel=True)\n",
    "#\n",
    "# reconstruct(model_path, pitch='080', instruments=['guitar_acoustic', 'brass_acoustic', 'keyboard_synthetic'], apply_energy_correction='True', use_mel=True)\n",
    "\n",
    "# reconstruct(model_path, pitch='100', instruments=['guitar_acoustic', 'brass_acoustic', 'keyboard_synthetic'], apply_energy_correction='True', use_mel=True)"
   ],
   "metadata": {
    "collapsed": false,
    "pycharm": {
     "name": "#%%\n"
    }
   }
  },
  {
   "cell_type": "code",
   "execution_count": 234,
   "outputs": [
    {
     "name": "stdout",
     "output_type": "stream",
     "text": [
      "Concat Process: 14/14\r\n",
      "Feature 1400 / 1401\r\n",
      "MSE-Loss: 9.39651\n",
      "Loss for sample brass_acoustic_016-060-075 is 9.41475\n",
      "Loss for sample brass_acoustic_015-060-127 is 8.65458\n",
      "Loss for sample brass_acoustic_059-060-075 is 8.33865\n",
      "Loss for sample guitar_acoustic_030-060-075 is 14.82635\n",
      "Loss for sample guitar_acoustic_015-060-050 is 9.54178\n",
      "Loss for sample guitar_acoustic_010-060-127 is 8.30977\n",
      "Loss for sample brass_acoustic_016-060-050 is 9.25638\n",
      "Loss for sample brass_acoustic_006-060-100 is 8.96009\n",
      "Loss for sample guitar_acoustic_015-060-025 is 8.82019\n",
      "Loss for sample brass_acoustic_059-060-100 is 8.22055\n",
      "Loss for sample guitar_acoustic_014-060-050 is 10.23614\n",
      "Loss for sample brass_acoustic_016-060-127 is 9.78574\n",
      "Loss for sample guitar_acoustic_010-060-100 is 7.70787\n",
      "Loss for sample guitar_acoustic_014-060-127 is 9.83699\n"
     ]
    }
   ],
   "source": [
    "# reconstruct(model_path, pitch='040', instruments=['guitar_acoustic', 'brass_acoustic', 'keyboard_synthetic'], apply_energy_correction='True', use_mel=True)\n",
    "#\n",
    "# reconstruct(model_path, pitch='050', instruments=['guitar_acoustic', 'brass_acoustic', 'keyboard_synthetic'], apply_energy_correction='True', use_mel=True)\n",
    "#\n",
    "# reconstruct(model_path, pitch='070', instruments=['guitar_acoustic', 'brass_acoustic', 'keyboard_synthetic'], apply_energy_correction='True', use_mel=True)\n",
    "\n",
    "\n",
    "reconstruct(model_path, pitch='060', instruments=['guitar_acoustic', 'brass_acoustic', 'keyboard_synthetic'], apply_energy_correction='True', use_mel=False)\n",
    "\n",
    "#spec = sp.getSpectrogram(\"SpectrogramData.nosync/nsynth-test_mel/bass_synthetic\", \"bass_synthetic_009-035-025.db\")\n",
    "\n",
    "\n",
    "#reconstruct_audio(spec.magnitude, spec.ref_power, spec.name, True, use_mel=True, is_original=True)\n"
   ],
   "metadata": {
    "collapsed": false,
    "pycharm": {
     "name": "#%%\n"
    }
   }
  },
  {
   "cell_type": "code",
   "execution_count": null,
   "outputs": [],
   "source": [
    "#reconstruct(model_path, pitch='090', instruments=['brass_acoustic'], apply_energy_correction='True', use_mel=False)\n",
    "\n",
    "reconstruct(model_path, pitch='090', instruments=['guitar_acoustic'], apply_energy_correction='True', use_mel=True)\n",
    "\n",
    "\n"
   ],
   "metadata": {
    "collapsed": false,
    "pycharm": {
     "name": "#%%\n"
    }
   }
  },
  {
   "cell_type": "code",
   "execution_count": 161,
   "id": "3b8d5a7d",
   "metadata": {
    "pycharm": {
     "name": "#%%\n"
    }
   },
   "outputs": [
    {
     "name": "stdout",
     "output_type": "stream",
     "text": [
      "Concat Process: 7/7\r\n",
      "Feature 672 / 673\r\n"
     ]
    }
   ],
   "source": [
    "plt.close()\n",
    "folder_to_model = model_path\n",
    "embedding_dict = encode(folder_to_model, instruments=['guitar_acoustic'], make_plot=True, pitch='060', use_mel=False)\n"
   ]
  },
  {
   "cell_type": "code",
   "execution_count": 134,
   "outputs": [],
   "source": [
    "#print(len(embedding_dict['bass_electronic_025-025-127']['emb'][0]))\n",
    "# if embeddings were not plotted\n",
    "#plot_embedding(embedding_dict, True, True, use_mel=True)"
   ],
   "metadata": {
    "collapsed": false,
    "pycharm": {
     "name": "#%%\n"
    }
   }
  },
  {
   "cell_type": "code",
   "execution_count": 92,
   "outputs": [],
   "source": [
    "# i_rate (interpolation rate) specifies how much of vector b should be present in result\n",
    "def interpolate(vec_a, vec_b, i_rate=0.5):\n",
    "\n",
    "    vec_combined = np.insert(vec_b, np.arange(len(vec_a)), vec_a)\n",
    "    vec_combined_i = [i for i in range(0, len(vec_combined))]\n",
    "    new_indices = [i + i_rate for i in range(0, len(vec_combined), 2)]\n",
    "    result = np.interp(new_indices, vec_combined_i, vec_combined)\n",
    "\n",
    "    return result\n",
    "\n",
    "def sum_signal(vec_a, vec_b):\n",
    "\n",
    "    return vec_a + vec_b\n",
    "\n",
    "def use_max(vec_a, vec_b):\n",
    "\n",
    "    res_arr = []\n",
    "\n",
    "    for a, b in zip(vec_a, vec_b):\n",
    "        res_arr.append(max(a, b))\n",
    "\n",
    "    return res_arr\n",
    "\n",
    "\n",
    "def interpolate_spec(instrument_a, instrument_b, title_a, title_b, title, plot_original=False, i_rate=0.5, use_mel=False):\n",
    "\n",
    "    target_spec = []\n",
    "    target_max_spec = []\n",
    "    for vec_a, vec_b in zip(instrument_a, instrument_b):\n",
    "        target_spec.append(interpolate(vec_a, vec_b, i_rate))\n",
    "        #target_max_spec.append(use_max(vec_a, vec_b))\n",
    "\n",
    "    target_np = np.array(target_spec)\n",
    "\n",
    "    y_scale = np.array([i for i in range(0, target_np.shape[1])])\n",
    "    x_scale = np.array([i for i in range(0, target_np.shape[0])])\n",
    "\n",
    "    if use_mel:\n",
    "        basefolder = 'Output_mel'\n",
    "    else:\n",
    "        basefolder = 'Output'\n",
    "\n",
    "    p = \"%s/embeddings/%s/interpolated\" % (basefolder, model_path)\n",
    "    check_path(p)\n",
    "\n",
    "    if plot_original:\n",
    "        fig, (ax1, ax2, ax3) = plt.subplots(1,3)\n",
    "        fig.suptitle('Embeddings')\n",
    "        pcm1 = ax1.pcolormesh(x_scale, y_scale, instrument_a.transpose() , cmap='inferno', shading='auto')\n",
    "        pcm2 = ax2.pcolormesh(x_scale, y_scale, instrument_b.transpose() , cmap='inferno', shading='auto')\n",
    "        pcm3 = ax3.pcolormesh(x_scale, y_scale, target_np.transpose() , cmap='inferno', shading='auto')\n",
    "\n",
    "        ax1.set_title(title_a, fontsize='medium')\n",
    "        ax2.set_title(title_b, fontsize='medium')\n",
    "        ax3.set_title('interpolated', fontsize='medium')\n",
    "\n",
    "        ax1.set_xlabel('output vectors', fontsize='small')\n",
    "        ax2.set_xlabel('output vectors', fontsize='small')\n",
    "        ax3.set_xlabel('output vectors', fontsize='small')\n",
    "\n",
    "        fig.colorbar(pcm1, ax=ax1)\n",
    "        fig.colorbar(pcm2, ax=ax2)\n",
    "        fig.colorbar(pcm3, ax=ax3)\n",
    "\n",
    "        plt.tight_layout()\n",
    "\n",
    "        plt.savefig('%s/%s_original_%.1f.png' % (p, title, i_rate), dpi=200)\n",
    "        plt.close()\n",
    "\n",
    "    else:\n",
    "        plt.imshow(target_np, cmap='inferno')\n",
    "        plt.title(title)\n",
    "        plt.savefig('%s/%s_%.1f.png' % (p, title, i_rate), dpi=200)\n",
    "        plt.close()\n",
    "\n",
    "    return target_np\n",
    "\n",
    "    # sum_sig = sum_signal(instrument_a, instrument_b)\n",
    "    #\n",
    "    # plt.imshow(np.array(sum_sig).transpose(), cmap='inferno')\n",
    "    # plt.title(title + \" sum\")\n",
    "    # plt.show()\n",
    "    # plt.close()\n",
    "    #\n",
    "    # plt.imshow(np.array(target_max_spec).transpose(), cmap='inferno')\n",
    "    # plt.title(title + \" max\")\n",
    "    # plt.show()\n",
    "    # plt.close()\n",
    "\n",
    "\n",
    "\n"
   ],
   "metadata": {
    "collapsed": false,
    "pycharm": {
     "name": "#%%\n"
    }
   }
  },
  {
   "cell_type": "code",
   "execution_count": 93,
   "outputs": [],
   "source": [
    "#np.array(embedding_dict[\"guitar_acoustic_015-055-075\"][\"emb\"]).shape"
   ],
   "metadata": {
    "collapsed": false,
    "pycharm": {
     "name": "#%%\n"
    }
   }
  },
  {
   "cell_type": "code",
   "execution_count": 130,
   "outputs": [],
   "source": [
    "def make_scatter_plot(instrument_a, instrument_b, title, title_a, title_b):\n",
    "\n",
    "    idx = 1\n",
    "    path = os.path.join(\"Output_mel/embeddings/\", model_path, \"scatter\", title)\n",
    "    check_path(path)\n",
    "    for a, b in zip(instrument_a, instrument_b):\n",
    "        name = \"%s pt %d\" % (title, idx)\n",
    "        plt.scatter(a,b)\n",
    "        plt.xlabel(title_a)\n",
    "        plt.ylabel(title_b)\n",
    "        plt.title(name)\n",
    "        plt.savefig(\"%s/%s\" % (path, name), dpi=200)\n",
    "        plt.close()\n",
    "        idx += 1\n"
   ],
   "metadata": {
    "collapsed": false,
    "pycharm": {
     "name": "#%%\n"
    }
   }
  },
  {
   "cell_type": "code",
   "execution_count": 131,
   "outputs": [],
   "source": [
    "def calculate_correlation(emb_dict, instrument_a):\n",
    "    import math\n",
    "    sample_a = np.array(emb_dict[instrument_a]['emb'])\n",
    "    correlation_coefficients = {}\n",
    "    for key in emb_dict:\n",
    "        sample_b = np.array(emb_dict[key]['emb'])\n",
    "        corr_per_vector = []\n",
    "        for idx, vec in enumerate(sample_a):\n",
    "            if idx == len(sample_b): break\n",
    "            corr = np.corrcoef(vec, sample_b[idx])\n",
    "            if math.isnan(corr[0][1]): break\n",
    "            corr_per_vector.append(corr[0][1])\n",
    "\n",
    "        corr = np.array(corr_per_vector).mean()\n",
    "        correlation_coefficients[key] = corr\n",
    "\n",
    "    return correlation_coefficients\n"
   ],
   "metadata": {
    "collapsed": false,
    "pycharm": {
     "name": "#%%\n"
    }
   }
  },
  {
   "cell_type": "code",
   "execution_count": 132,
   "outputs": [],
   "source": [
    "# calculate correlation of embedding from one specific instrument to e.g. all others of the same pitch\n",
    "def calculate_corr_instrument(instrument_name_a):\n",
    "    correlation_dict = calculate_correlation(embedding_dict, instrument_name_a)\n",
    "\n",
    "    correlation_dict = dict(sorted(correlation_dict.items(), key=lambda item: item[1]))\n",
    "\n",
    "    print(\"Correlation of sample %s to other instruments:\" % instrument_name_a)\n",
    "    for key in correlation_dict:\n",
    "        corr = correlation_dict[key]\n",
    "\n",
    "        print(\"%s: %.4f\" % (key, corr))\n",
    "\n",
    "\n",
    "instrument_name_a = 'guitar_acoustic_015-060-050'\n",
    "#calculate_corr_instrument(instrument_name_a)\n"
   ],
   "metadata": {
    "collapsed": false,
    "pycharm": {
     "name": "#%%\n"
    }
   }
  },
  {
   "cell_type": "code",
   "execution_count": 140,
   "outputs": [
    {
     "name": "stdout",
     "output_type": "stream",
     "text": [
      "Calculated correlation for 8 of 8 samples\r"
     ]
    }
   ],
   "source": [
    "# calculate all correlation values between all samples' embeddings of e.g. one pitch\n",
    "import pandas as pd\n",
    "import seaborn as sns\n",
    "\n",
    "corr_all = {}\n",
    "frames = []\n",
    "idx = 1\n",
    "for key in embedding_dict:\n",
    "    corr = calculate_correlation(embedding_dict, key)\n",
    "    corr_all[key] = corr\n",
    "    print(\"Calculated correlation for %d of %d samples\" % (idx, len(embedding_dict)), end='\\r')\n",
    "    idx += 1\n",
    "\n"
   ],
   "metadata": {
    "collapsed": false,
    "pycharm": {
     "name": "#%%\n"
    }
   }
  },
  {
   "cell_type": "code",
   "execution_count": 142,
   "outputs": [
    {
     "data": {
      "text/plain": "<Figure size 720x720 with 2 Axes>",
      "image/png": "[encoded data removed]"
     },
     "metadata": {},
     "output_type": "display_data"
    }
   ],
   "source": [
    "# display correlation matrix\n",
    "\n",
    "res = pd.DataFrame.from_dict(corr_all)\n",
    "res.sort_index(inplace=True)\n",
    "res.sort_index(axis=1,inplace=True)\n",
    "\n",
    "fig, ax = plt.subplots(figsize=(10,10))\n",
    "sns.heatmap(res, annot=True,)\n",
    "plt.savefig(\"Models/Trained/%s/correlation_matrix_055_shrinked.png\" % model_path, dpi=200)"
   ],
   "metadata": {
    "collapsed": false,
    "pycharm": {
     "name": "#%%\n"
    }
   }
  },
  {
   "cell_type": "code",
   "execution_count": 47,
   "outputs": [],
   "source": [],
   "metadata": {
    "collapsed": false,
    "pycharm": {
     "name": "#%%\n"
    }
   }
  },
  {
   "cell_type": "code",
   "execution_count": 143,
   "id": "d1d45ff9",
   "metadata": {
    "pycharm": {
     "name": "#%%\n"
    }
   },
   "outputs": [],
   "source": [
    "key_a = 'guitar_acoustic_021-055-100'\n",
    "key_b = 'brass_acoustic_016-055-100'\n",
    "\n",
    "instrument_a = np.array(embedding_dict[key_a]['emb'])\n",
    "instrument_b = np.array(embedding_dict[key_b]['emb'])\n",
    "power_ref_a = embedding_dict[key_a]['power_ref']\n",
    "power_ref_b = embedding_dict[key_b]['power_ref']\n",
    "\n",
    "len_a = instrument_a.shape[0]\n",
    "len_b = instrument_b.shape[0]\n",
    "\n",
    "if len_a < len_b:\n",
    "    instrument_b = instrument_b[:len_a]\n",
    "\n",
    "else:\n",
    "    instrument_a = instrument_a[:len_b]\n",
    "\n",
    "title = \"%s&%s\" % (key_a, key_b)\n",
    "make_scatter_plot(instrument_b, instrument_a, title, key_a, key_b) # uncomment to make scatterplots between two embeddings values\n",
    "\n"
   ]
  },
  {
   "cell_type": "code",
   "execution_count": 144,
   "outputs": [
    {
     "name": "stdout",
     "output_type": "stream",
     "text": [
      "Decode\n",
      "Feature 96 / 96\r\n"
     ]
    }
   ],
   "source": [
    "res_emb = interpolate_spec(instrument_a, instrument_b, key_a, key_b, title, plot_original=True, i_rate=0.5, use_mel=True)\n",
    "\n",
    "mean_power_ref = (power_ref_a + power_ref_b) / 2\n",
    "\n",
    "decode_interpolated(folder_to_model, res_emb, title, mean_power_ref, key_a, key_b, use_mel=True, i_rate=0.5)"
   ],
   "metadata": {
    "collapsed": false,
    "pycharm": {
     "name": "#%%\n"
    }
   }
  },
  {
   "cell_type": "code",
   "execution_count": null,
   "outputs": [],
   "source": [
    "\n"
   ],
   "metadata": {
    "collapsed": false,
    "pycharm": {
     "name": "#%%\n"
    }
   }
  }
 ],
 "metadata": {
  "kernelspec": {
   "display_name": "Python 3 (ipykernel)",
   "language": "python",
   "name": "python3"
  },
  "language_info": {
   "codemirror_mode": {
    "name": "ipython",
    "version": 3
   },
   "file_extension": ".py",
   "mimetype": "text/x-python",
   "name": "python",
   "nbconvert_exporter": "python",
   "pygments_lexer": "ipython3",
   "version": "3.8.10"
  }
 },
 "nbformat": 4,
 "nbformat_minor": 5
}